{
 "cells": [
  {
   "cell_type": "markdown",
   "metadata": {},
   "source": [
    "# **AMERICAN EXPRESS - DEFAULT PREDICTION**\n",
    "\n",
    "---\n",
    "\n",
    "*Authors:*\n",
    "- *Myroslava Sánchez Andrade A01730712*\n",
    "- *Karen Rugerio Armenta A01733228*\n",
    "- *José Antonio Bobadilla García A01734433*\n",
    "- *Alejandro Castro Reus A01731065*\n",
    "\n",
    "*Creation date: 17/08/2022*\n",
    "\n",
    "*Last updated: 11/09/2022*\n",
    "\n",
    "---"
   ]
  },
  {
   "cell_type": "markdown",
   "metadata": {},
   "source": [
    "### **INDEX**\n",
    "[Business Understanding](#business-understanding)\n",
    "<br> [Data understanding](#data-understanding)\n",
    "<br> [Data preparation](#data-preparation)\n",
    "<br> [Modelling](#modelling)\n",
    "<br> [Evaluation](#evaluation)\n",
    "<br> [Deployment](#deployment)"
   ]
  },
  {
   "cell_type": "markdown",
   "metadata": {},
   "source": [
    "***\n",
    "## **Business Understanding**\n",
    "\n",
    "American Express has been a pioneer in offering in Mexico, since it was one of the first companies to offer 0% APR (annual percentage rate) providing solutions to all customers with the quality and demand that are required. Because of this it is important for the company to maintain the leading and control their clients payments.\n",
    "\n",
    "In this code we predict the probability that a customer does not pay back their credit card balance amount in the future based on their monthly customer profile, bserving 18 months after the latest credit card statement to help AMEX to keep the lead."
   ]
  },
  {
   "cell_type": "markdown",
   "metadata": {},
   "source": [
    "***\n",
    "## **Data Understanding**\n",
    "\n",
    "__[AMEX - Kaggle](https://www.kaggle.com/competitions/amex-default-prediction/data)__\n",
    "\n",
    "The dataset contains features anonymized and normalized for each constumer at each statement date.\n",
    "\n",
    "***Independent variables***\n",
    "\n",
    "The independent variables fall into the following categories:\n",
    "- D_* = Deliquency variables\n",
    "- S_* = Spend variables\n",
    "- P_* = Payment variables\n",
    "- B_* = Balance variables\n",
    "- R_* = Risk variables\n",
    "\n",
    "Being categorical the following specific features:\n",
    "`['B_30', 'B_38', 'D_114', 'D_116', 'D_117', 'D_120', 'D_126', 'D_63', 'D_64', 'D_66', 'D_68']`\n",
    "\n",
    "\n",
    "***Dependent variable***\n",
    "\n",
    "Predicition of the probability of a future payment for each costumer (target).\n"
   ]
  },
  {
   "cell_type": "markdown",
   "metadata": {},
   "source": [
    "***\n",
    "## **Data Preparation**\n",
    "\n",
    "#### **ETL:**\n",
    "- Extraction of the 20% american express clients sample\n",
    "- Column analysis\n",
    "- Row analysis\n",
    "- One Hot Encoding\n",
    "- Imputation\n",
    "- PCA\n",
    "- Aggregation by costumers\n",
    "- Load"
   ]
  },
  {
   "cell_type": "markdown",
   "metadata": {},
   "source": [
    "***Extract***"
   ]
  },
  {
   "cell_type": "code",
   "execution_count": 8,
   "metadata": {},
   "outputs": [],
   "source": [
    "%run partials/etl/extract.ipynb"
   ]
  },
  {
   "cell_type": "markdown",
   "metadata": {},
   "source": [
    "***Transform and load***"
   ]
  },
  {
   "cell_type": "code",
   "execution_count": null,
   "metadata": {},
   "outputs": [],
   "source": [
    "%run partials/etl/transform_load.ipynb"
   ]
  },
  {
   "cell_type": "markdown",
   "metadata": {},
   "source": [
    "***\n",
    "## **Modelling and Evaluation**"
   ]
  },
  {
   "cell_type": "code",
   "execution_count": null,
   "metadata": {},
   "outputs": [],
   "source": [
    "%run partials/model/model.ipynb"
   ]
  }
 ],
 "metadata": {
  "kernelspec": {
   "display_name": "Python 3 (ipykernel)",
   "language": "python",
   "name": "python3"
  },
  "language_info": {
   "codemirror_mode": {
    "name": "ipython",
    "version": 3
   },
   "file_extension": ".py",
   "mimetype": "text/x-python",
   "name": "python",
   "nbconvert_exporter": "python",
   "pygments_lexer": "ipython3",
   "version": "3.10.4"
  },
  "vscode": {
   "interpreter": {
    "hash": "1365f7312f0ac659adc64cf9ad70f48f473b7d9bf5c210bebce62c7e15bdcca9"
   }
  }
 },
 "nbformat": 4,
 "nbformat_minor": 4
}
